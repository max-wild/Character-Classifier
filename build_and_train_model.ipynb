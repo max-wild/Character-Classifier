{
  "nbformat": 4,
  "nbformat_minor": 0,
  "metadata": {
    "colab": {
      "provenance": [],
      "gpuType": "T4"
    },
    "kernelspec": {
      "name": "python3",
      "display_name": "Python 3"
    },
    "language_info": {
      "name": "python"
    },
    "accelerator": "GPU"
  },
  "cells": [
    {
      "cell_type": "code",
      "source": [
        "BATCH_SIZE = 64 # @param [32, 64, 128]\n",
        "HIDDEN_UNITS = 12 # @param [8, 10, 12, 16]\n",
        "EPOCHS = 3 # @param [3, 4, 5, 7]"
      ],
      "metadata": {
        "id": "X58Aqx7ecUKv"
      },
      "execution_count": null,
      "outputs": []
    },
    {
      "cell_type": "code",
      "execution_count": null,
      "metadata": {
        "colab": {
          "base_uri": "https://localhost:8080/"
        },
        "id": "OlYlrGojh3ay",
        "outputId": "a0dc55a3-c483-47cc-efe9-c0cebf4000cf"
      },
      "outputs": [
        {
          "output_type": "stream",
          "name": "stdout",
          "text": [
            "PyTorch version: 2.0.1+cu118\n",
            "torchvision version: 0.15.2+cu118\n"
          ]
        }
      ],
      "source": [
        "import torch\n",
        "import torchvision\n",
        "import matplotlib.pyplot as plt\n",
        "\n",
        "print(f\"PyTorch version: {torch.__version__}\\ntorchvision version: {torchvision.__version__}\")"
      ]
    },
    {
      "cell_type": "code",
      "source": [
        "!pip install torchmetrics"
      ],
      "metadata": {
        "id": "9DAa0-PZikf7"
      },
      "execution_count": null,
      "outputs": []
    },
    {
      "cell_type": "code",
      "source": [
        "# Based agnostic code\n",
        "device = 'cuda' if torch.cuda.is_available() else 'cpu'\n",
        "device"
      ],
      "metadata": {
        "colab": {
          "base_uri": "https://localhost:8080/",
          "height": 36
        },
        "id": "itLNAuf7hO7U",
        "outputId": "7023ee0a-e577-4fcd-9094-2d4af714ea27"
      },
      "execution_count": null,
      "outputs": [
        {
          "output_type": "execute_result",
          "data": {
            "text/plain": [
              "'cuda'"
            ],
            "application/vnd.google.colaboratory.intrinsic+json": {
              "type": "string"
            }
          },
          "metadata": {},
          "execution_count": 4
        }
      ]
    },
    {
      "cell_type": "code",
      "source": [
        "from torchvision import datasets, transforms\n",
        "from torchvision.transforms import ToTensor, Lambda, RandomRotation, RandomAffine\n",
        "\n",
        "# This is using the unbalanced dataset described here:\n",
        "# https://arxiv.org/pdf/1702.05373v1.pdf\n",
        "\n",
        "orient_direction = transforms.Compose([\n",
        "    ToTensor(),\n",
        "    RandomRotation((90, 90)),  # Rotate 90 degrees\n",
        "    Lambda(lambda x: torch.flip(x, (0, 1))),  # Flip horizontally\n",
        "    RandomAffine(  # Apply random transformations to make the dataset more robust\n",
        "        degrees=25,\n",
        "        translate=(0.45, 0.45),\n",
        "        scale=(0.6, 1),\n",
        "        shear=(-30, 30, -30, 30)\n",
        "    )\n",
        "])\n",
        "\n",
        "train_data = datasets.EMNIST(\n",
        "    root='data',\n",
        "    split='byclass',\n",
        "    train=True,\n",
        "    download=True,\n",
        "    transform=orient_direction  # Ensure we receive a tensor\n",
        ")\n",
        "\n",
        "test_data = datasets.EMNIST(\n",
        "    root='data',\n",
        "    split='byclass',\n",
        "    train=False,\n",
        "    download=True,\n",
        "    transform=orient_direction\n",
        ")"
      ],
      "metadata": {
        "colab": {
          "base_uri": "https://localhost:8080/"
        },
        "id": "xGUocIhkiFZp",
        "outputId": "222fd8c6-8c8e-4749-a0e6-87092d332632"
      },
      "execution_count": null,
      "outputs": [
        {
          "output_type": "stream",
          "name": "stdout",
          "text": [
            "Downloading https://www.itl.nist.gov/iaui/vip/cs_links/EMNIST/gzip.zip to data/EMNIST/raw/gzip.zip\n"
          ]
        },
        {
          "output_type": "stream",
          "name": "stderr",
          "text": [
            "100%|██████████| 561753746/561753746 [00:05<00:00, 93723128.20it/s]\n"
          ]
        },
        {
          "output_type": "stream",
          "name": "stdout",
          "text": [
            "Extracting data/EMNIST/raw/gzip.zip to data/EMNIST/raw\n"
          ]
        }
      ]
    },
    {
      "cell_type": "code",
      "source": [
        "class_names = train_data.classes\n",
        "print(f'{class_names=}')"
      ],
      "metadata": {
        "colab": {
          "base_uri": "https://localhost:8080/"
        },
        "id": "TR0HbF3aj44p",
        "outputId": "75d49409-6d38-483e-c9ae-6c1fa445af52"
      },
      "execution_count": null,
      "outputs": [
        {
          "output_type": "stream",
          "name": "stdout",
          "text": [
            "class_names=['0', '1', '2', '3', '4', '5', '6', '7', '8', '9', 'A', 'B', 'C', 'D', 'E', 'F', 'G', 'H', 'I', 'J', 'K', 'L', 'M', 'N', 'O', 'P', 'Q', 'R', 'S', 'T', 'U', 'V', 'W', 'X', 'Y', 'Z', 'a', 'b', 'c', 'd', 'e', 'f', 'g', 'h', 'i', 'j', 'k', 'l', 'm', 'n', 'o', 'p', 'q', 'r', 's', 't', 'u', 'v', 'w', 'x', 'y', 'z']\n"
          ]
        }
      ]
    },
    {
      "cell_type": "code",
      "source": [
        "### Plot 10 images\n",
        "fig = plt.figure(figsize=(10, 4))\n",
        "rows, cols = 2, 5\n",
        "for i in range(1, rows * cols + 1):\n",
        "\n",
        "    random_idx = torch.randint(0, len(train_data), size=[1]).item()  # Use item() to get the scalar\n",
        "    img, label = train_data[random_idx]\n",
        "\n",
        "    fig.add_subplot(rows, cols, i)\n",
        "    plt.imshow(img.squeeze(), cmap='gray')\n",
        "    plt.title(class_names[label])\n",
        "    plt.axis(False)"
      ],
      "metadata": {
        "colab": {
          "base_uri": "https://localhost:8080/",
          "height": 360
        },
        "id": "PmWNRDSAkMWG",
        "outputId": "eaf5c2c2-4f5c-4a13-d87c-4d85cb499acf"
      },
      "execution_count": null,
      "outputs": [
        {
          "output_type": "display_data",
          "data": {
            "text/plain": [
              "<Figure size 1000x400 with 10 Axes>"
            ],
            "image/png": "[encoded data removed]"
          },
          "metadata": {}
        }
      ]
    },
    {
      "cell_type": "code",
      "source": [
        "### Define dataloaders\n",
        "from torch.utils.data import DataLoader\n",
        "\n",
        "train_dataloader = DataLoader(train_data,\n",
        "                              batch_size=BATCH_SIZE,\n",
        "                              shuffle=True)\n",
        "test_dataloader = DataLoader(test_data,\n",
        "                             batch_size=BATCH_SIZE,\n",
        "                             shuffle=False)\n",
        "\n",
        "print(f'Train DataLoader: {train_dataloader}\\nTest DataLoader: {test_dataloader}\\n')\n",
        "print(f'Length of train dataloader: {len(train_dataloader)} batches of {BATCH_SIZE}')\n",
        "print(f'Length of test dataloader: {len(test_dataloader)} batches of {BATCH_SIZE}')"
      ],
      "metadata": {
        "colab": {
          "base_uri": "https://localhost:8080/"
        },
        "id": "5lnLOX5omwNz",
        "outputId": "e874edb4-2794-4de1-f820-11e2f9cd7abf"
      },
      "execution_count": null,
      "outputs": [
        {
          "output_type": "stream",
          "name": "stdout",
          "text": [
            "Train DataLoader: <torch.utils.data.dataloader.DataLoader object at 0x7b2a83526dd0>\n",
            "Test DataLoader: <torch.utils.data.dataloader.DataLoader object at 0x7b2a83526f20>\n",
            "\n",
            "Length of train dataloader: 10906 batches of 64\n",
            "Length of test dataloader: 1818 batches of 64\n"
          ]
        }
      ]
    },
    {
      "cell_type": "code",
      "source": [
        "# A look inside the DataLoader-- (features format should be NCHW)\n",
        "example_batch_features, example_batch_labels = next(iter(train_dataloader))\n",
        "print(f'Features shape: {example_batch_features.shape}\\nLabels shape: {example_batch_labels.shape}')"
      ],
      "metadata": {
        "colab": {
          "base_uri": "https://localhost:8080/"
        },
        "id": "hwo8Juajdgux",
        "outputId": "40160608-33c8-4aec-f011-0b51a97b0bc0"
      },
      "execution_count": null,
      "outputs": [
        {
          "output_type": "stream",
          "name": "stdout",
          "text": [
            "Features shape: torch.Size([64, 1, 28, 28])\n",
            "Labels shape: torch.Size([64])\n"
          ]
        }
      ]
    },
    {
      "cell_type": "code",
      "source": [
        "### Define our model\n",
        "# Using the TinyVGG CNN architecture from https://poloclub.github.io/cnn-explainer/\n",
        "from torch import nn\n",
        "\n",
        "class CharacterClassifer(nn.Module):\n",
        "    def __init__(self, output_shape: int):\n",
        "        super().__init__()\n",
        "        self.block_1 = nn.Sequential(\n",
        "            nn.Conv2d(in_channels=1,  # 1 channel--black and white\n",
        "                      out_channels=HIDDEN_UNITS,\n",
        "                      kernel_size=3,  # Dimensions of inspecting square\n",
        "                      stride=1,  # Default\n",
        "                      padding=1),\n",
        "            nn.ReLU(),  # Nonlinearity baby 😋\n",
        "            nn.Conv2d(HIDDEN_UNITS, HIDDEN_UNITS, 3, padding=1),  # There're many channels of hidden units now\n",
        "            nn.ReLU(),\n",
        "            nn.MaxPool2d(kernel_size=2,\n",
        "                         stride=2)  # Default stride is the same as kernel\n",
        "        )\n",
        "        self.block_2 = nn.Sequential(\n",
        "            nn.Conv2d(HIDDEN_UNITS, HIDDEN_UNITS, 3, padding=1),\n",
        "            nn.ReLU(),\n",
        "            nn.Conv2d(HIDDEN_UNITS, HIDDEN_UNITS, 3, padding=1),\n",
        "            nn.ReLU(),\n",
        "            nn.MaxPool2d(2)\n",
        "        )\n",
        "        self.classifier = nn.Sequential(\n",
        "            nn.Flatten(),\n",
        "            nn.Linear(HIDDEN_UNITS * 7 * 7, output_shape)\n",
        "        )\n",
        "\n",
        "    def forward(self, x: torch.Tensor):\n",
        "        x = self.block_1(x)\n",
        "        x = self.block_2(x)\n",
        "        x = self.classifier(x)\n",
        "        return x"
      ],
      "metadata": {
        "id": "ODABD12QeLYf"
      },
      "execution_count": null,
      "outputs": []
    },
    {
      "cell_type": "code",
      "source": [
        "### Make our model\n",
        "model_0 = CharacterClassifer(output_shape=len(class_names)).to(device)\n",
        "model_0"
      ],
      "metadata": {
        "colab": {
          "base_uri": "https://localhost:8080/"
        },
        "id": "PzEACL_Bh8bp",
        "outputId": "716d2930-f704-42ff-914f-4d82a6c0f9d4"
      },
      "execution_count": null,
      "outputs": [
        {
          "output_type": "execute_result",
          "data": {
            "text/plain": [
              "CharacterClassifer(\n",
              "  (block_1): Sequential(\n",
              "    (0): Conv2d(1, 12, kernel_size=(3, 3), stride=(1, 1), padding=(1, 1))\n",
              "    (1): ReLU()\n",
              "    (2): Conv2d(12, 12, kernel_size=(3, 3), stride=(1, 1), padding=(1, 1))\n",
              "    (3): ReLU()\n",
              "    (4): MaxPool2d(kernel_size=2, stride=2, padding=0, dilation=1, ceil_mode=False)\n",
              "  )\n",
              "  (block_2): Sequential(\n",
              "    (0): Conv2d(12, 12, kernel_size=(3, 3), stride=(1, 1), padding=(1, 1))\n",
              "    (1): ReLU()\n",
              "    (2): Conv2d(12, 12, kernel_size=(3, 3), stride=(1, 1), padding=(1, 1))\n",
              "    (3): ReLU()\n",
              "    (4): MaxPool2d(kernel_size=2, stride=2, padding=0, dilation=1, ceil_mode=False)\n",
              "  )\n",
              "  (classifier): Sequential(\n",
              "    (0): Flatten(start_dim=1, end_dim=-1)\n",
              "    (1): Linear(in_features=588, out_features=62, bias=True)\n",
              "  )\n",
              ")"
            ]
          },
          "metadata": {},
          "execution_count": 11
        }
      ]
    },
    {
      "cell_type": "code",
      "source": [
        "### Define optimizer, loss function, and accuracy function\n",
        "import torchmetrics\n",
        "\n",
        "accuracy_fn = torchmetrics.Accuracy(task='multiclass', num_classes=len(class_names)).to(device)\n",
        "loss_fn = nn.CrossEntropyLoss()\n",
        "optimizer = torch.optim.SGD(params=model_0.parameters(),\n",
        "                            lr=0.1)"
      ],
      "metadata": {
        "id": "Vs_O4Uaud7bB"
      },
      "execution_count": null,
      "outputs": []
    },
    {
      "cell_type": "code",
      "source": [
        "### Evaluation function\n",
        "\n",
        "def evaluate_model(model: torch.nn.Module,\n",
        "                   data_loader: torch.utils.data.DataLoader,\n",
        "                   loss_fn: torch.nn.Module,\n",
        "                   accuracy_fn: torchmetrics.metric.Metric,\n",
        "                   device: torch.device):\n",
        "\n",
        "    loss, acc = 0, 0\n",
        "    model.eval()\n",
        "    with torch.inference_mode():\n",
        "        for X, y in data_loader:\n",
        "            X, y = X.to(device), y.to(device)\n",
        "            y_pred = model(X)\n",
        "            loss += loss_fn(y_pred, y)\n",
        "            acc += accuracy_fn(y_pred.argmax(dim=1), y)\n",
        "\n",
        "        loss /= len(data_loader)\n",
        "        acc /= len(data_loader)\n",
        "\n",
        "    return {'model_name': model.__class__.__name__,\n",
        "            'model_loss': loss.item(),\n",
        "            'model_acc': acc}"
      ],
      "metadata": {
        "id": "FB-1AEbqeGqF"
      },
      "execution_count": null,
      "outputs": []
    },
    {
      "cell_type": "code",
      "source": [
        "### Training and Testing Steps\n",
        "\n",
        "def train_step(model: torch.nn.Module,\n",
        "               data_loader: torch.utils.data.DataLoader,\n",
        "               loss_fn: torch.nn.Module,\n",
        "               optimizer: torch.optim.Optimizer,\n",
        "               accuracy_fn: torchmetrics.metric.Metric,\n",
        "               device: torch.device):\n",
        "    train_loss, train_acc = 0, 0\n",
        "    model.to(device)\n",
        "    model.train()\n",
        "\n",
        "    for batch, (X, y) in enumerate(data_loader):\n",
        "        # Send data to GPU\n",
        "        X, y = X.to(device), y.to(device)\n",
        "\n",
        "        # 1. Forward pass\n",
        "        y_preds = model(X)\n",
        "\n",
        "        # 2. Calculate loss\n",
        "        loss = loss_fn(y_preds, y)\n",
        "        train_loss += loss\n",
        "\n",
        "        batch_acc = accuracy_fn(y_preds.argmax(dim=1), y)\n",
        "        train_acc += batch_acc\n",
        "\n",
        "        # 3. Zero the optimizer gradients\n",
        "        optimizer.zero_grad()\n",
        "\n",
        "        # 4. Backpropagate\n",
        "        loss.backward()\n",
        "\n",
        "        # 5. SGD step\n",
        "        optimizer.step()\n",
        "\n",
        "    # Calculate loss and accuracy per epoch\n",
        "    train_loss /= len(data_loader)\n",
        "    train_acc /= len(data_loader)\n",
        "    print(f'Train loss: {train_loss:.5f} | Train accuracy: {train_acc:.2f}%')\n",
        "\n",
        "\n",
        "def test_step(model: torch.nn.Module,\n",
        "              data_loader: torch.utils.data.DataLoader,\n",
        "              loss_fn: torch.nn.Module,\n",
        "              accuracy_fn: torchmetrics.metric.Metric,\n",
        "              device: torch.device):\n",
        "    test_loss, test_acc = 0, 0\n",
        "    model.to(device)\n",
        "    model.eval()\n",
        "\n",
        "    with torch.inference_mode():\n",
        "        for X, y in data_loader:\n",
        "\n",
        "            X, y = X.to(device), y.to(device)\n",
        "\n",
        "            # 1. Forward pass\n",
        "            test_pred = model(X)\n",
        "\n",
        "            # 2. Calculate loss and accuracy\n",
        "            test_loss += loss_fn(test_pred, y)\n",
        "            test_acc += accuracy_fn(torch.argmax(test_pred, dim=1), y)\n",
        "\n",
        "        # Adjust metrics and print out\n",
        "        test_loss /= len(data_loader)\n",
        "        test_acc /= len(data_loader)\n",
        "        print(f'Test loss: {test_loss:.5f} | Test accuracy: {test_acc:.2f}%\\n')"
      ],
      "metadata": {
        "id": "uHxO5bAnkt7k"
      },
      "execution_count": null,
      "outputs": []
    },
    {
      "cell_type": "code",
      "source": [
        "### Training time function\n",
        "import math\n",
        "\n",
        "def print_train_time(start: float, end: float, device: torch.device):\n",
        "    total_time = end - start\n",
        "    minutes = math.floor(total_time / 60)\n",
        "    seconds = total_time % 60\n",
        "    print(f'Train time on {device}: {minutes} minutes and {seconds:.2f} seconds')"
      ],
      "metadata": {
        "id": "R0bYYqjLm0Eu"
      },
      "execution_count": null,
      "outputs": []
    },
    {
      "cell_type": "code",
      "source": [
        "### Train the model\n",
        "from tqdm.auto import tqdm\n",
        "from timeit import default_timer\n",
        "\n",
        "begin_time = default_timer()\n",
        "\n",
        "for epoch in tqdm(range(EPOCHS)):\n",
        "    print(f'Epoch: {epoch}\\n---------------------------------')\n",
        "\n",
        "    # Train step\n",
        "    train_step(model=model_0,\n",
        "              data_loader=train_dataloader,\n",
        "              loss_fn=loss_fn,\n",
        "              optimizer=optimizer,\n",
        "              accuracy_fn=accuracy_fn,\n",
        "              device=device\n",
        "    )\n",
        "\n",
        "    # Test step\n",
        "    if epoch % 2 == 0 or epoch == EPOCHS - 1:\n",
        "        test_step(model=model_0,\n",
        "                  data_loader=test_dataloader,\n",
        "                  loss_fn=loss_fn,\n",
        "                  accuracy_fn=accuracy_fn,\n",
        "                  device=device\n",
        "        )\n",
        "\n",
        "    print('')  # Newline\n",
        "\n",
        "end_time = default_timer()\n",
        "print_train_time(begin_time, end_time, device)"
      ],
      "metadata": {
        "id": "1r1tbPlslZhz"
      },
      "execution_count": null,
      "outputs": []
    },
    {
      "cell_type": "code",
      "source": [
        "from pathlib import Path\n",
        "\n",
        "# Create models directory (if it doesn't already exist), see: https://docs.python.org/3/library/pathlib.html#pathlib.Path.mkdir\n",
        "MODEL_PATH = Path('models')\n",
        "MODEL_PATH.mkdir(parents=True, # create parent directories if needed\n",
        "                 exist_ok=True # if models directory already exists, don't error\n",
        ")\n",
        "\n",
        "STATE_DICT_NAME = 'character_classifier_state_dict.pth'\n",
        "STATE_DICT_SAVE_PATH = MODEL_PATH / STATE_DICT_NAME\n",
        "\n",
        "print(f'Saving state dict to: {STATE_DICT_SAVE_PATH}')\n",
        "torch.save(obj=model_0.state_dict(),\n",
        "           f=STATE_DICT_SAVE_PATH)"
      ],
      "metadata": {
        "id": "QI7qb-2qm_DL"
      },
      "execution_count": null,
      "outputs": []
    },
    {
      "cell_type": "code",
      "source": [
        "MODEL_NAME = 'character_classifier.pth'\n",
        "MODEL_SAVE_PATH = MODEL_PATH / MODEL_NAME\n",
        "\n",
        "print(f'Saving model to: {MODEL_SAVE_PATH}')\n",
        "torch.save(obj=model_0,\n",
        "           f=MODEL_SAVE_PATH)"
      ],
      "metadata": {
        "id": "6L6nIyFUDcRd"
      },
      "execution_count": null,
      "outputs": []
    },
    {
      "cell_type": "code",
      "source": [
        "### Test that the model works\n",
        "\n",
        "random_idx = torch.randint(0, len(train_data), size=[1]).item()\n",
        "test_img, test_label = train_data[random_idx]\n",
        "\n",
        "plt.imshow(test_img.squeeze(), cmap='gray')\n",
        "plt.title(class_names[test_label])\n",
        "test_img.shape"
      ],
      "metadata": {
        "id": "nS0Vj3-DBVr1"
      },
      "execution_count": null,
      "outputs": []
    },
    {
      "cell_type": "code",
      "source": [
        "model_0.to(device)\n",
        "test_img.to(device)\n",
        "\n",
        "model_0.eval()\n",
        "with torch.inference_mode():\n",
        "\n",
        "    pred_logit = model_0(test_img.unsqueeze(dim=0))\n",
        "    pred_probs = torch.softmax(pred_logit.squeeze(), dim=0) # .squeeze(), dim=0)\n",
        "    pred_class = pred_probs.argmax(dim=0)\n",
        "\n",
        "print(f'The model guesses that the input is a: {class_names[pred_class]}')"
      ],
      "metadata": {
        "id": "ReQAI2RiCVyO"
      },
      "execution_count": null,
      "outputs": []
    },
    {
      "cell_type": "code",
      "source": [
        "### Now convert to onnx format for use in browsers\n",
        "!pip install onnx"
      ],
      "metadata": {
        "id": "6ub-qrAaF_cq"
      },
      "execution_count": null,
      "outputs": []
    },
    {
      "cell_type": "code",
      "source": [
        "# Export to onnx\n",
        "model_0.to('cpu')\n",
        "dummy_input = torch.zeros(1, 1, 28, 28).to('cpu')\n",
        "\n",
        "model_0.eval()\n",
        "torch.onnx.export(model_0,\n",
        "                  dummy_input,\n",
        "                  'torchmodel_EMINST.onnx',\n",
        "                  verbose=True,\n",
        "                  opset_version=9)  # VERY IMPORTANT -- only works in v7-9"
      ],
      "metadata": {
        "id": "TfS8zJ7YDA-Q"
      },
      "execution_count": null,
      "outputs": []
    },
    {
      "cell_type": "code",
      "source": [
        "### Now, need to make a model that's set up to work in browser\n",
        "\n",
        "class CharClassiferWeb(nn.Module):\n",
        "    def __init__(self, output_shape: int):\n",
        "        super().__init__()\n",
        "        self.block_1 = nn.Sequential(\n",
        "            nn.Conv2d(in_channels=1,  # 1 channel--black and white\n",
        "                      out_channels=HIDDEN_UNITS,\n",
        "                      kernel_size=3,  # Dimensions of inspecting square\n",
        "                      stride=1,  # Default\n",
        "                      padding=1),\n",
        "            nn.ReLU(),\n",
        "            nn.Conv2d(HIDDEN_UNITS, HIDDEN_UNITS, 3, padding=1),  # There're many channels of hidden units now\n",
        "            nn.ReLU(),\n",
        "            nn.MaxPool2d(kernel_size=2,\n",
        "                         stride=2)  # Default stride is the same as kernel\n",
        "        )\n",
        "        self.block_2 = nn.Sequential(\n",
        "            nn.Conv2d(HIDDEN_UNITS, HIDDEN_UNITS, 3, padding=1),\n",
        "            nn.ReLU(),\n",
        "            nn.Conv2d(HIDDEN_UNITS, HIDDEN_UNITS, 3, padding=1),\n",
        "            nn.ReLU(),\n",
        "            nn.MaxPool2d(2)\n",
        "        )\n",
        "        self.classifier = nn.Sequential(\n",
        "            nn.Flatten(),\n",
        "            nn.Linear(HIDDEN_UNITS * 7 * 7, output_shape)\n",
        "        )\n",
        "\n",
        "    def forward(self, x: torch.Tensor):\n",
        "\n",
        "        # Pre-process inputs\n",
        "        x = x.reshape(280, 280, 4)\n",
        "        x = torch.narrow(x, dim=2, start=3, length=1)  # Get the alpha color value\n",
        "        x = x.reshape(1, 1, 280, 280)  # Put into NCHW format\n",
        "        x = nn.functional.avg_pool2d(x, 10, stride=10)  # Lower resolution from 280x280 to 28x28\n",
        "        x = x / 255  # Alpha value is 0-255, accomdate for that\n",
        "\n",
        "        # Inference\n",
        "        x = self.block_1(x)\n",
        "        x = self.block_2(x)\n",
        "        x = self.classifier(x)\n",
        "\n",
        "        # Post-process logits -> probabilites\n",
        "        x = torch.softmax(x, dim=1)\n",
        "        return x"
      ],
      "metadata": {
        "id": "4T1WIS-cHUMO"
      },
      "execution_count": null,
      "outputs": []
    },
    {
      "cell_type": "code",
      "source": [
        "model_web = CharClassiferWeb(output_shape=len(class_names)).to('cpu')"
      ],
      "metadata": {
        "id": "MQf5iJazwO4Z"
      },
      "execution_count": null,
      "outputs": []
    },
    {
      "cell_type": "code",
      "source": [
        "model_web.load_state_dict(model_0.state_dict())"
      ],
      "metadata": {
        "id": "CBhldGJIwtxN"
      },
      "execution_count": null,
      "outputs": []
    },
    {
      "cell_type": "code",
      "source": [
        "# Now, output to ONNX\n",
        "model_web.to('cpu')\n",
        "dummy_input = torch.zeros(280 * 280 * 4).to('cpu')\n",
        "\n",
        "model_web.eval()\n",
        "torch.onnx.export(model_web,\n",
        "                  dummy_input,\n",
        "                  'torchmodel_Web.onnx',\n",
        "                  verbose=True,\n",
        "                  opset_version=9)   # VERY IMPORTANT -- only works in v7-9"
      ],
      "metadata": {
        "id": "OYdAFPHtwvmv"
      },
      "execution_count": null,
      "outputs": []
    }
  ]
}